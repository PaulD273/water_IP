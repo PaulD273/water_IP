{
 "cells": [
  {
   "cell_type": "code",
   "execution_count": 1,
   "id": "16e59197-9714-4a61-aa60-325338a8efae",
   "metadata": {},
   "outputs": [],
   "source": [
    "import numpy as np\n",
    "import csv\n",
    "import matplotlib.pyplot as plt"
   ]
  },
  {
   "cell_type": "code",
   "execution_count": 8,
   "id": "a55ed669-5172-4459-9158-6bfb32e1f4f7",
   "metadata": {},
   "outputs": [],
   "source": [
    "#import homemade python function\n",
    "import sys \n",
    "import os\n",
    "import read_file "
   ]
  },
  {
   "cell_type": "markdown",
   "id": "813bac26-ea82-4286-9086-aabbae6873c2",
   "metadata": {},
   "source": [
    "# Cell size convergence"
   ]
  },
  {
   "cell_type": "code",
   "execution_count": 9,
   "id": "1468c536-0fa6-4a29-88db-090d97b2074a",
   "metadata": {},
   "outputs": [
    {
     "name": "stdout",
     "output_type": "stream",
     "text": [
      "[[20.     -6.8715  2.33  ]\n",
      " [25.     -6.9271  4.86  ]\n",
      " [30.     -6.9533  9.39  ]\n",
      " [35.     -6.964  20.73  ]\n",
      " [40.     -6.9701 32.56  ]\n",
      " [45.     -6.9758 36.69  ]]\n"
     ]
    }
   ],
   "source": [
    "f = read_file.read_file('./vacuum_file/energy_ecut.txt')\n",
    "print(f)"
   ]
  },
  {
   "cell_type": "code",
   "execution_count": 10,
   "id": "2ba365d6-641d-4c4f-acf2-84f4bb7918c9",
   "metadata": {},
   "outputs": [
    {
     "data": {
      "text/plain": [
       "Text(0, 0.5, 'Homo [eV]')"
      ]
     },
     "execution_count": 10,
     "metadata": {},
     "output_type": "execute_result"
    },
    {
     "data": {
      "image/png": "[encoded data removed]",
      "text/plain": [
       "<Figure size 432x288 with 1 Axes>"
      ]
     },
     "metadata": {
      "needs_background": "light"
     },
     "output_type": "display_data"
    }
   ],
   "source": [
    "plt.plot(f[:,0],f[:,1],marker=\"o\")\n",
    "plt.xlabel(r\"Vacuum size [Bohr]\")\n",
    "plt.ylabel(r\"Homo [eV]\")"
   ]
  },
  {
   "cell_type": "markdown",
   "id": "74eb349d-2046-4b5e-960c-840c95c544eb",
   "metadata": {},
   "source": [
    "Convergence made wrt the vacuum size in the range [20, 25, 30, 35, 40, 45] Bohr.\n",
    "\n",
    "celldm(1)=30 was deemed a good compromise -> half the time needed for 35 and just 0.01 eV difference in the homo."
   ]
  },
  {
   "cell_type": "code",
   "execution_count": null,
   "id": "e5898d44-a3e3-4855-bd50-2613ed1f0ba4",
   "metadata": {},
   "outputs": [],
   "source": []
  }
 ],
 "metadata": {
  "kernelspec": {
   "display_name": "Python 3 (ipykernel)",
   "language": "python",
   "name": "python3"
  },
  "language_info": {
   "codemirror_mode": {
    "name": "ipython",
    "version": 3
   },
   "file_extension": ".py",
   "mimetype": "text/x-python",
   "name": "python",
   "nbconvert_exporter": "python",
   "pygments_lexer": "ipython3",
   "version": "3.11.0"
  }
 },
 "nbformat": 4,
 "nbformat_minor": 5
}
