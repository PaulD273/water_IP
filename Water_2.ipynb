{
 "cells": [
  {
   "cell_type": "markdown",
   "id": "275f795b-d84a-43f3-a152-a96c3d3be4e9",
   "metadata": {},
   "source": [
    "Structure obtained with avogadro in_avogadro_water.xyz"
   ]
  },
  {
   "cell_type": "raw",
   "id": "24f650a0-2d07-4971-8afa-27f2d7c09e8a",
   "metadata": {},
   "source": [
    "Results obtained\n",
    "with DFT-PBE \n",
    "highest occupied, lowest unoccupied level (ev):    -7.0606   -1.2391\n",
    "with DFT-PBE0\n",
    "highest occupied, lowest unoccupied level (ev):    -8.8450   -0.6139\n",
    "experimental value from NIST\n",
    "12.621 ± 0.002 eV"
   ]
  },
  {
   "cell_type": "code",
   "execution_count": null,
   "id": "93766eeb-42cc-451a-a925-dc75bcd32dcc",
   "metadata": {},
   "outputs": [],
   "source": []
  },
  {
   "cell_type": "markdown",
   "id": "08d46ca6-ea16-4346-a42a-f4ab197233f8",
   "metadata": {},
   "source": [
    "# Getting Started with Full-Frequency GW Calculations"
   ]
  },
  {
   "cell_type": "markdown",
   "id": "7e8f2cb0-dc7f-4717-9788-a17b96a3323b",
   "metadata": {},
   "source": [
    "##  Projective dielectric eigendecomposition (PDEP)"
   ]
  },
  {
   "cell_type": "markdown",
   "id": "461ad994-9157-43ac-9b44-313e791fecd3",
   "metadata": {},
   "source": [
    "In the $\\textbf{wstat.in}$ input file we compute 50 PDEPs, i.e., 50 eigenvectors of the static dielectric matrix. For production runs, please converge n_pdep_eigen. This step uses the occupied single-particle states and energies obtained in the previous step (mean-field calculation). Note that unoccupied states are not needed."
   ]
  },
  {
   "cell_type": "markdown",
   "id": "46d902e1-ebb1-4556-a7a5-507324229af1",
   "metadata": {},
   "source": [
    "In summary, the $\\textbf{Davidson algorithm}$ takes an initial guess for the lowest-eigenvalue eigenvector and produces new estimates by solving the diagonalization in an ever increasing subspace of previous estimates. Starting from that initial guess, the algorithm goes as follows."
   ]
  },
  {
   "cell_type": "code",
   "execution_count": 3,
   "id": "885e93ef-1000-48fb-9006-af2f1f729188",
   "metadata": {},
   "outputs": [],
   "source": [
    "import json\n",
    "#JSON (JavaScript Object Notation) is an open standard file format and data interchange format that uses human-readable text to store and transmit data objects \n",
    "#consisting of name–value pairs and arrays (or other serializable values). \n",
    "import numpy as np\n",
    "\n",
    "# Load the output data contained in the file <west_prefix>.wstat.save/wstat.json.\n",
    "with open('/home/paolo/water_2/water_pbe/water_pbe.wstat.save/wstat.json') as json_file :\n",
    "    data1 = json.load(json_file)\n",
    "\n",
    "#The system performed various Davidson iterations to obtain the converged PDEP. We extract the corresponding eigenvalues of the last iteration\n",
    "# Extract converged PDEP eigenvalues, stored in the position wstat.json[exec][davitr][-1 (last iteration)][ev]\n",
    "ev = np.array(data1['exec']['davitr'][-1]['ev'],dtype='f8') # -1 identifies the last iteration"
   ]
  },
  {
   "cell_type": "code",
   "execution_count": 4,
   "id": "6c654cf8-c20b-4630-b982-1db76760c21a",
   "metadata": {},
   "outputs": [
    {
     "name": "stdout",
     "output_type": "stream",
     "text": [
      "[-2.50793906 -1.06306151 -0.77589256 -0.7374752  -0.62302457 -0.51556865\n",
      " -0.48781758 -0.3495011  -0.34077426 -0.31898838 -0.30151811 -0.29073281\n",
      " -0.28644069 -0.25385046 -0.22810214 -0.21396446 -0.19176811 -0.18468644\n",
      " -0.17838223 -0.1554166  -0.15284546 -0.14676629 -0.14488876 -0.14419548\n",
      " -0.13943264 -0.10469511 -0.09562784 -0.09041826 -0.0897679  -0.0859008\n",
      " -0.07729071 -0.0764719  -0.07570843 -0.0654883  -0.06362753 -0.06173222\n",
      " -0.06131231 -0.05984806 -0.05846643 -0.05766444 -0.05585663 -0.05330921\n",
      " -0.05271778 -0.05195627 -0.04916528 -0.04838885 -0.04183438 -0.041417\n",
      " -0.04096953 -0.04049671]\n"
     ]
    }
   ],
   "source": [
    "#list of converged PDEP eigenvalues\n",
    "print(ev)"
   ]
  },
  {
   "cell_type": "code",
   "execution_count": 5,
   "id": "95e64ede-0348-45e7-a4b5-3d818cde5fa4",
   "metadata": {},
   "outputs": [
    {
     "data": {
      "image/png": "[encoded data removed]",
      "text/plain": [
       "<Figure size 432x288 with 1 Axes>"
      ]
     },
     "metadata": {
      "needs_background": "light"
     },
     "output_type": "display_data"
    }
   ],
   "source": [
    "import matplotlib.pyplot as plt\n",
    "\n",
    "# Create x-axis, by generating an array of evenly spaced points equal to the number of PDEP\n",
    "iv = np.linspace(1,ev.size,ev.size,endpoint=True)\n",
    "\n",
    "# Plot\n",
    "plt.plot(iv,ev,'o-')\n",
    "plt.xlabel('i')\n",
    "plt.ylabel('PDEP eigenvalue')\n",
    "\n",
    "plt.show()"
   ]
  },
  {
   "cell_type": "markdown",
   "id": "e17c99b7-dea8-4f9d-9a6b-7b3d0538d506",
   "metadata": {},
   "source": [
    "As we can see the eigenvalues of the dielectric response decay to zero (see J. Chem. Theory Comput. 11, 2680 (2015), and references therein). The number of PDEPs is a parameter of the simulation that is system dependent and needs to be converged. Typically the number of PDEPs is set equal to multiple of the number of electrons."
   ]
  },
  {
   "cell_type": "code",
   "execution_count": null,
   "id": "7414cad5-c0dd-4160-9580-26713e24311a",
   "metadata": {},
   "outputs": [],
   "source": []
  },
  {
   "cell_type": "markdown",
   "id": "b67ee3f9-25c5-4e24-a9cb-f3e2a42a53ff",
   "metadata": {},
   "source": [
    "## Contour deformation (CD)"
   ]
  },
  {
   "cell_type": "code",
   "execution_count": 6,
   "id": "61dbffba-642f-4813-9977-c09ca68da7f0",
   "metadata": {},
   "outputs": [],
   "source": [
    "# Read the output of Wfreq: wfreq.json\n",
    "\n",
    "def wfreq2df(filename='/home/paolo/water_2/water_pbe/water_pbe.wfreq.save/wfreq.json', dfKeys=['eks','eqpLin','eqpSec','sigmax','sigmac_eks','sigmac_eqpLin','sigmac_eqpSec', 'vxcl', 'vxcnl', 'hf']) :\n",
    "\n",
    "    # read data from JSON file\n",
    "\n",
    "    import json\n",
    "    with open(filename) as file :\n",
    "        data = json.load(file)\n",
    "\n",
    "    import numpy as np\n",
    "    import pandas as pd\n",
    "\n",
    "    # build the dataframe with pandas\n",
    "    # build the columns: k->k-point index (always 1, sampled at gamma), s->spin index, n: state index (We computed the quasiparticle corrections of states \n",
    "    #identified by band indexes 1,2,3,4,5, see input file wfreq.in). With + dfKeys we add to the column array the names of another list of column names, namely eks, eqpLin, ...\n",
    "    columns = ['k','s','n'] + dfKeys\n",
    "    #build the dataframe\n",
    "    df = pd.DataFrame(columns=columns)\n",
    "\n",
    "    # insert data into the dataframe\n",
    "    j = 0\n",
    "    #run over the spin from 1 to the data extracted from wfreq.json->system->electron->nspin+1 (since for runs from 0 to n-1). In our case s=1 so the for performs a single run.\n",
    "    for s in range(1,data['system']['electron']['nspin']+1) :\n",
    "        #run over k points extracted from wfreq.json->system->bzsamp->k\n",
    "        for k in data['system']['bzsamp']['k'] :\n",
    "            #f-string (formatted string literal) to generate a string, as part of a labeling or identifier system. The index kindex is computed by summing k['id'], value extracted\n",
    "            #from wfreq.json->system->bzsamp->k->id, to a scaling factor that multiplies the adjusted value of s by the length of the list k. \n",
    "            #:06d is a format specification in the f-string, it means that the result inside the curly braces will be formatted as a decimal integer (d), with leading zeros to make the total width 6 characters. \n",
    "            #If the value is smaller than 6 digits, it will be padded with zeros. In the present case s=1 so this additive term is =0.\n",
    "            kindex = f\"K{k['id']+(s-1)*len(data['system']['bzsamp']['k']):06d}\"\n",
    "            #The output is extracted from wfreq.json->output->Q->kindex. Since in our case k=1, the output is contained entirely in the file K000001 (padded to zero to fill the 6\n",
    "            #digits)\n",
    "            d = data['output']['Q'][kindex]\n",
    "            #enumerate() is a built-in Python function that takes an iterable (in this case, the list data['input']['wfreq_control']['qp_bands'][s - 1]) and \n",
    "            #returns both the index (i) and the value (n) for each element of the iterable. The values contained in the dictionary in this case are:\n",
    "            #    0:1\n",
    "            #    1:2\n",
    "            #    2:3\n",
    "            #    3:4\n",
    "            #    4:5\n",
    "            for i, n in enumerate(data['input']['wfreq_control']['qp_bands'][s - 1]) :\n",
    "                #A new list row is created, starting with three elements: k['id'], defined previously, spin index s and the current state index n. \n",
    "                row = [k['id'], s, n]\n",
    "                #for key in dfKeys iterates over dfKeys, which is the list of keys eks, eqpLin, ...\n",
    "                for key in dfKeys :\n",
    "                    #if 're' in d[key] checks if the key in dictionary d contains the subkey 're', i.e. real.\n",
    "                    if 're' in d[key] :\n",
    "                        #If 're' is present, it appends d[key]['re'][i] (the i-th element from the list d[key]['re']) to the row.\n",
    "                        row.append(d[key]['re'][i])\n",
    "                    else :\n",
    "                        #If 're' is not found, it appends d[key][i] (the i-th element from d[key]) to the row.\n",
    "                        row.append(d[key][i])\n",
    "                #df.loc[j] = row inserts the row into the DataFrame df at row index j. Each time the loop iterates, a new row is added to the DataFrame df.        \n",
    "                df.loc[j] = row\n",
    "                #After adding the row, the index j is incremented by 1, so the next iteration adds data to the next row in the DataFrame.\n",
    "                j += 1\n",
    "\n",
    "    # cast the columns k, s, n to int\n",
    "    df['k'] = df['k'].apply(np.int64)\n",
    "    df['s'] = df['s'].apply(np.int64)\n",
    "    df['n'] = df['n'].apply(np.int64)\n",
    "\n",
    "    return df, data"
   ]
  },
  {
   "cell_type": "code",
   "execution_count": 7,
   "id": "cebc8884-052d-4c50-8b03-9b9cd47c496d",
   "metadata": {},
   "outputs": [
    {
     "data": {
      "text/html": [
       "<div>\n",
       "<style scoped>\n",
       "    .dataframe tbody tr th:only-of-type {\n",
       "        vertical-align: middle;\n",
       "    }\n",
       "\n",
       "    .dataframe tbody tr th {\n",
       "        vertical-align: top;\n",
       "    }\n",
       "\n",
       "    .dataframe thead th {\n",
       "        text-align: right;\n",
       "    }\n",
       "</style>\n",
       "<table border=\"1\" class=\"dataframe\">\n",
       "  <thead>\n",
       "    <tr style=\"text-align: right;\">\n",
       "      <th></th>\n",
       "      <th>k</th>\n",
       "      <th>s</th>\n",
       "      <th>n</th>\n",
       "      <th>eks</th>\n",
       "      <th>eqpLin</th>\n",
       "      <th>eqpSec</th>\n",
       "      <th>sigmax</th>\n",
       "      <th>sigmac_eks</th>\n",
       "      <th>sigmac_eqpLin</th>\n",
       "      <th>sigmac_eqpSec</th>\n",
       "      <th>vxcl</th>\n",
       "      <th>vxcnl</th>\n",
       "      <th>hf</th>\n",
       "    </tr>\n",
       "  </thead>\n",
       "  <tbody>\n",
       "    <tr>\n",
       "      <th>0</th>\n",
       "      <td>1</td>\n",
       "      <td>1</td>\n",
       "      <td>1</td>\n",
       "      <td>-25.024032</td>\n",
       "      <td>-24.839963</td>\n",
       "      <td>-29.839128</td>\n",
       "      <td>-31.578976</td>\n",
       "      <td>4.996174</td>\n",
       "      <td>7.306641</td>\n",
       "      <td>6.994422</td>\n",
       "      <td>-19.649824</td>\n",
       "      <td>0.0</td>\n",
       "      <td>-11.929152</td>\n",
       "    </tr>\n",
       "    <tr>\n",
       "      <th>1</th>\n",
       "      <td>1</td>\n",
       "      <td>1</td>\n",
       "      <td>2</td>\n",
       "      <td>-12.137710</td>\n",
       "      <td>-17.076248</td>\n",
       "      <td>-16.910485</td>\n",
       "      <td>-23.214158</td>\n",
       "      <td>0.432002</td>\n",
       "      <td>1.319449</td>\n",
       "      <td>1.244348</td>\n",
       "      <td>-17.138977</td>\n",
       "      <td>0.0</td>\n",
       "      <td>-6.075180</td>\n",
       "    </tr>\n",
       "    <tr>\n",
       "      <th>2</th>\n",
       "      <td>1</td>\n",
       "      <td>1</td>\n",
       "      <td>3</td>\n",
       "      <td>-9.619320</td>\n",
       "      <td>-14.284605</td>\n",
       "      <td>-14.093985</td>\n",
       "      <td>-24.037721</td>\n",
       "      <td>1.016440</td>\n",
       "      <td>1.999408</td>\n",
       "      <td>1.967215</td>\n",
       "      <td>-17.596162</td>\n",
       "      <td>0.0</td>\n",
       "      <td>-6.441560</td>\n",
       "    </tr>\n",
       "    <tr>\n",
       "      <th>3</th>\n",
       "      <td>1</td>\n",
       "      <td>1</td>\n",
       "      <td>4</td>\n",
       "      <td>-7.060595</td>\n",
       "      <td>-11.551913</td>\n",
       "      <td>-11.389068</td>\n",
       "      <td>-24.779717</td>\n",
       "      <td>1.410616</td>\n",
       "      <td>2.418333</td>\n",
       "      <td>2.398029</td>\n",
       "      <td>-18.116756</td>\n",
       "      <td>0.0</td>\n",
       "      <td>-6.662961</td>\n",
       "    </tr>\n",
       "    <tr>\n",
       "      <th>4</th>\n",
       "      <td>1</td>\n",
       "      <td>1</td>\n",
       "      <td>5</td>\n",
       "      <td>-1.239055</td>\n",
       "      <td>1.019796</td>\n",
       "      <td>1.134220</td>\n",
       "      <td>-2.184044</td>\n",
       "      <td>-0.629367</td>\n",
       "      <td>-0.599149</td>\n",
       "      <td>-0.592624</td>\n",
       "      <td>-5.149398</td>\n",
       "      <td>0.0</td>\n",
       "      <td>2.965353</td>\n",
       "    </tr>\n",
       "  </tbody>\n",
       "</table>\n",
       "</div>"
      ],
      "text/plain": [
       "   k  s  n        eks     eqpLin     eqpSec     sigmax  sigmac_eks  \\\n",
       "0  1  1  1 -25.024032 -24.839963 -29.839128 -31.578976    4.996174   \n",
       "1  1  1  2 -12.137710 -17.076248 -16.910485 -23.214158    0.432002   \n",
       "2  1  1  3  -9.619320 -14.284605 -14.093985 -24.037721    1.016440   \n",
       "3  1  1  4  -7.060595 -11.551913 -11.389068 -24.779717    1.410616   \n",
       "4  1  1  5  -1.239055   1.019796   1.134220  -2.184044   -0.629367   \n",
       "\n",
       "   sigmac_eqpLin  sigmac_eqpSec       vxcl  vxcnl         hf  \n",
       "0       7.306641       6.994422 -19.649824    0.0 -11.929152  \n",
       "1       1.319449       1.244348 -17.138977    0.0  -6.075180  \n",
       "2       1.999408       1.967215 -17.596162    0.0  -6.441560  \n",
       "3       2.418333       2.398029 -18.116756    0.0  -6.662961  \n",
       "4      -0.599149      -0.592624  -5.149398    0.0   2.965353  "
      ]
     },
     "metadata": {},
     "output_type": "display_data"
    }
   ],
   "source": [
    "df, data = wfreq2df()\n",
    "display(df)"
   ]
  },
  {
   "cell_type": "markdown",
   "id": "1e86615f-e088-4867-874e-a19bac2fdb96",
   "metadata": {},
   "source": [
    "All energies in the plot are reported in eV. The full-frequency $G_0 W_0$ energies correspond to the $\\textbf{eqpSec}$ column.\n",
    "\n",
    "From the table we see that HOMO has an energy of -7.061 eV at PBE, while HOMO has an energy of -11.389 eV at \n",
    "$G_0 W_0$@PBE without linearization."
   ]
  },
  {
   "cell_type": "markdown",
   "id": "ae4a11e7-05cc-45f9-926b-6a7e916c2909",
   "metadata": {},
   "source": [
    "## Explanation of keys "
   ]
  },
  {
   "cell_type": "markdown",
   "id": "06caad56-8a1d-401d-a907-5948bbcc8fd6",
   "metadata": {},
   "source": [
    "$$\\textbf{k}: \\text{k-point index}$$\n",
    "\n",
    "$$\\textbf{s}: \\text{spin index}$$\n",
    "\n",
    "$$\\textbf{n}: \\text{state index}$$\n",
    "\n",
    "$$\\textbf{eks}: \\epsilon_{kn}, \\, \\text{Kohn-Sham energy (obtained in Step 1, DFT calculation)}$$\n",
    "\n",
    "$$\\textbf{eqpLin}: E_{kn}, \\, \\text{quasiparticle energy (full-frequency } G_0W_0@PBE \\text{), obtained by approximating the self-energy to first order in the frequency}$$\n",
    "\n",
    "$$\\textbf{eqpSec}: E_{kn}, \\, \\text{quasiparticle energy (full-frequency } G_0W_0@PBE \\text{), obtained by using the secant method to solve the frequency-dependency in the quasiparticle equation}$$\n",
    "\n",
    "$$\\textbf{sigmax}: \\text{exchange self-energy}$$\n",
    "\n",
    "$$\\textbf{sigmac_eks}: \\text{correlation self-energy, evaluated at eks. Note that $\\textbf{re}$ and $\\textbf{im}$ identify the real and imaginary parts.}$$\n",
    "\n",
    "$$\\textbf{sigmac_eqpLin}: \\text{correlation self-energy, evaluated at eqpLin}$$\n",
    "\n",
    "$$\\textbf{sigmac_eqpSec}: \\text{correlation self-energy, evaluated at eqpSec}$$\n",
    "\n",
    "$$\\textbf{vxcl}: \\text{contribution to the energy given by the semi-local xc functional}$$\n",
    "\n",
    "$$\\textbf{vxcnl}: \\text{contribution to the energy given by the exact exchange (if the xc is hybrid)}$$\n",
    "\n",
    "$$\\textbf{hf}: \\text{quasiparticle energy according to perturbative Hartree-Fock, i.e., no correlation self-energy}$$\n",
    "\n",
    "$$\\textbf{z}: \\text{the value of the z-parameter used to approximate the self-energy to first order in the frequency (definition given in J. Chem. Theory Comput. 11, 2680 (2015))}$$"
   ]
  },
  {
   "cell_type": "code",
   "execution_count": null,
   "id": "6621fdb6-0d5f-4132-9c8e-e366fa282278",
   "metadata": {},
   "outputs": [],
   "source": []
  },
  {
   "cell_type": "markdown",
   "id": "3316025d-ab29-4fa6-b5ba-e6397a455ebe",
   "metadata": {},
   "source": [
    "# Analyzing the Frequency Dependency in GW Calculations"
   ]
  },
  {
   "cell_type": "markdown",
   "id": "92bba6d8-4a87-4180-89a0-bcd4c1b85ec6",
   "metadata": {},
   "source": [
    "We analyze the frequency dependency of the GW self-energy, by exploring two ways of solving the Quasiparticle equation:\n",
    "without linearization\n",
    "\\begin{equation}\n",
    "E = \\epsilon_{ks} + \\langle \\Sigma(E) - V_{Hxc} \\rangle\n",
    "\\end{equation}\n",
    "or with linearization\n",
    "\\begin{equation}\n",
    "E = \\epsilon_{ks} + \\langle \\Sigma(\\epsilon_{ks}) - V_{Hxc} \\rangle + (E - \\epsilon_{ks}) \\langle \\frac{\\partial \\Sigma}{\\partial E}(\\epsilon_{ks})\\rangle\n",
    "\\end{equation}"
   ]
  },
  {
   "cell_type": "code",
   "execution_count": 8,
   "id": "f5c2b163-60f2-45ae-87a8-c71792030dd9",
   "metadata": {},
   "outputs": [],
   "source": [
    "import json\n",
    "import numpy as np\n",
    "\n",
    "# Load the output data\n",
    "with open('/home/paolo/water_2/water_pbe/water_pbe.wfreq.save/wfreq_1.json') as json_file :\n",
    "    data2 = json.load(json_file)\n",
    "\n",
    "# Extract converged quasiparticle (QP) corrections\n",
    "k = 1\n",
    "kindex = f'K{k:06d}'\n",
    "\n",
    "qp_bands = data2['input']['wfreq_control']['qp_bands'][0]\n",
    "eqp = data2['output']['Q'][kindex]\n",
    "\n",
    "freqlist = np.array(data2['output']['P']['freqlist'], dtype='f8')\n",
    "spf = data2['output']['P'][kindex]"
   ]
  },
  {
   "cell_type": "code",
   "execution_count": 9,
   "id": "1773f39c-ba38-4883-bcd8-dadbc6356780",
   "metadata": {},
   "outputs": [
    {
     "name": "stdout",
     "output_type": "stream",
     "text": [
      "    k      |    band    |    eks [eV]     |   eqpLin [eV]   |   eqpSec [eV]  \n",
      "-----------------------------------------------------------------------------\n",
      "    1      |     4      |     -7.061      |     -11.550     |     -11.371    \n"
     ]
    },
    {
     "data": {
      "image/png": "[encoded data removed]",
      "text/plain": [
       "<Figure size 432x288 with 1 Axes>"
      ]
     },
     "metadata": {
      "needs_background": "light"
     },
     "output_type": "display_data"
    },
    {
     "name": "stdout",
     "output_type": "stream",
     "text": [
      "    k      |    band    |    eks [eV]     |   eqpLin [eV]   |   eqpSec [eV]  \n",
      "-----------------------------------------------------------------------------\n",
      "    1      |     5      |     -1.239      |      1.020      |      1.134     \n"
     ]
    },
    {
     "data": {
      "image/png": "[encoded data removed]",
      "text/plain": [
       "<Figure size 432x288 with 1 Axes>"
      ]
     },
     "metadata": {
      "needs_background": "light"
     },
     "output_type": "display_data"
    }
   ],
   "source": [
    "# Plot\n",
    "import matplotlib.pyplot as plt\n",
    "\n",
    "for i, c in enumerate(qp_bands) :\n",
    " \n",
    "    eks, eqpLin, eqpSec = eqp['eks'][i], eqp['eqpLin'][i], eqp['eqpSec'][i]\n",
    "\n",
    "    # Print QP corrections\n",
    "    print (f\"{'k':^10} | {'band':^10} | {'eks [eV]':^15} | {'eqpLin [eV]':^15} | {'eqpSec [eV]':^15}\")\n",
    "    print(77*'-')\n",
    "    print(f'{k:^10} | {c:^10} | {eks:^15.3f} | {eqpLin:^15.3f} | {eqpSec:^15.3f}')\n",
    "\n",
    "    sigmax, vxcl, vxcnl = eqp['sigmax'][i], eqp['vxcl'][i], eqp['vxcnl'][i]\n",
    "    sigmac_eks = eqp['sigmac_eks']['re'][i]\n",
    "    sigmac_eqpLin = eqp['sigmac_eqpLin']['re'][i]\n",
    "    sigmac_eqpSec = eqp['sigmac_eqpSec']['re'][i]\n",
    "    z = eqp['z'][i]\n",
    "\n",
    "    bindex = f'B{c:06d}'\n",
    "    sigmac = np.array(spf[bindex]['sigmac']['re'], dtype='f8')\n",
    "\n",
    "    # Left-hand side of QP equation\n",
    "    plt.plot(freqlist,freqlist-eks,'r-',label=r'$E-\\varepsilon_{KS}$')\n",
    "\n",
    "    # Right-hand side of QP equation without linearization\n",
    "    plt.plot(freqlist,sigmac+sigmax-vxcl-vxcnl,'b-',label=r'$\\Sigma(E)-V_{xc}$')\n",
    "\n",
    "    # Right-hand side of QP equation with linearization\n",
    "    plt.plot(freqlist,sigmac_eks+sigmax-vxcl-vxcnl+(1-1/z)*(freqlist-eks),'g-',label=r'$\\Sigma^{lin}(E)-V_{xc}$')\n",
    "\n",
    "    plt.legend()\n",
    "    plt.title(kindex+\" \"+bindex)\n",
    "    plt.xlabel('frequency (eV)')\n",
    "    plt.ylabel('function (eV)')\n",
    "    xmin, xmax = min(eks, eqpLin, eqpSec), max(eks, eqpLin, eqpSec)\n",
    "    ymin, ymax = min(sigmac_eks, sigmac_eqpLin, sigmac_eqpSec), max(sigmac_eks, sigmac_eqpLin, sigmac_eqpSec)\n",
    "    ymin += sigmax - vxcl -vxcnl\n",
    "    ymax += sigmax - vxcl -vxcnl\n",
    "    plt.vlines(x=eks,ymin=ymin-0.2*(ymax-ymin),ymax=ymax+0.2*(ymax-ymin),ls=\"--\")\n",
    "    plt.vlines(x=eqpLin,ymin=ymin-0.2*(ymax-ymin),ymax=ymax+0.2*(ymax-ymin),ls=\":\",color=\"g\")\n",
    "    plt.vlines(x=eqpSec,ymin=ymin-0.2*(ymax-ymin),ymax=ymax+0.2*(ymax-ymin),ls=\":\",color=\"b\")\n",
    "    plt.xlim([xmin-0.2*(xmax-xmin),xmax+0.2*(xmax-xmin)])\n",
    "    plt.ylim([ymin-0.2*(ymax-ymin),ymax+0.2*(ymax-ymin)])\n",
    "    plt.show()"
   ]
  },
  {
   "cell_type": "code",
   "execution_count": null,
   "id": "7dc38ddd-b92a-4182-93e6-541ba94c76fc",
   "metadata": {},
   "outputs": [],
   "source": []
  },
  {
   "cell_type": "markdown",
   "id": "232f5930-f5f1-42bc-9193-f7660fd243b0",
   "metadata": {},
   "source": [
    "# Hybrid computation"
   ]
  },
  {
   "cell_type": "markdown",
   "id": "def60a83-744a-4375-adc9-254ae8a18ee5",
   "metadata": {},
   "source": [
    "A hybrid functional contains a mixture of semilocal ($V_{\\text{x}}$) and exact exchange ($V_{\\text{xx}}$):\n",
    "\n",
    "\\begin{equation}\n",
    "H^{\\text{hyb}}= T + V_{\\text{ion}} + V_{\\text{Hartree}} + V_{\\text{xc}} + \\alpha (V_{\\text{xx}}-V_{\\text{x}})\n",
    "\\end{equation}\n",
    "\n",
    "For the hybrid functional PBE0 $\\alpha=0.25$.\n",
    "\n",
    "A class of dielectric dependent hybrid functionals was developed in order to make $\\alpha$ material dependent and to obtain higher accuracy. For dielectric dependent hybrid functionals $\\alpha$ is a parameter that can be determined from first principles:\n",
    "\n",
    "- For solids (sc-hybrid functional): $\\alpha = \\epsilon_\\infty^{-1}$ [[Phys. Rev. B 89, 195112 (2014)](https://journals.aps.org/prb/abstract/10.1103/PhysRevB.89.195112)]\n",
    "- For molecules (SX functional): $\\alpha_n = \\frac{\\left\\langle \\psi_n \\right| \\Sigma_{\\text{SEX}} \\left | \\psi_n \\right\\rangle}{\\left\\langle \\psi_n \\right| \\Sigma_{\\text{EX}} \\left | \\psi_n \\right\\rangle}$ [[Phys. Rev. X 6, 041002 (2016)](https://journals.aps.org/prx/abstract/10.1103/PhysRevX.6.041002)]\n",
    "\n",
    "\n",
    "\\begin{equation}\n",
    "\\Sigma_{\\text{SEX}}(\\mathbf{r},\\mathbf{r^\\prime}) = -\\sum_n^{N_{\\text{states}}} \\psi_n(\\mathbf{r}) W(\\mathbf{r},\\mathbf{r^\\prime}) \\psi^\\ast_n(\\mathbf{r^\\prime})\n",
    "\\end{equation}\n",
    "and\n",
    "\\begin{equation}\n",
    "\\Sigma_{\\text{EX}}(\\mathbf{r},\\mathbf{r^\\prime}) = -\\sum_n^{N_{\\text{states}}} \\psi_n(\\mathbf{r}) v_{Coulomb}(\\mathbf{r},\\mathbf{r^\\prime}) \\psi^\\ast_n(\\mathbf{r^\\prime})\n",
    "\\end{equation}\n",
    "\n",
    "In order to compute the SX constant we need to compute the DFT electronic structure with semilocal functionals (`pw.x`), compute the eigendecomposition of the dielectric screening (`wstat.x`), and extract the information about the screening with the WEST post-processing tool (`westpp.x`)."
   ]
  },
  {
   "cell_type": "markdown",
   "id": "11017b4b-8391-4914-ba9b-b8ded0dbcc61",
   "metadata": {},
   "source": [
    "At westpp_6.json -> output -> fraction -> 3"
   ]
  },
  {
   "cell_type": "code",
   "execution_count": 1,
   "id": "832709dc-d4e4-463a-9d57-9642bcdcad90",
   "metadata": {},
   "outputs": [],
   "source": [
    "# alpha_n following the definition given for molecules\n",
    "exx_fration = 0.7280307620399332"
   ]
  },
  {
   "cell_type": "markdown",
   "id": "1bf4e5d5-ffea-4ec9-ad71-dc2f78a62886",
   "metadata": {},
   "source": [
    "Corrected result, new dft calculation"
   ]
  },
  {
   "cell_type": "raw",
   "id": "6b1bd207-3b78-4ac3-94ef-5c86c76f9973",
   "metadata": {},
   "source": [
    "highest occupied, lowest unoccupied level (ev):   -12.3662   -0.0959"
   ]
  },
  {
   "cell_type": "code",
   "execution_count": null,
   "id": "6a8839b7-1955-4293-b045-fac2b5ee6d1c",
   "metadata": {},
   "outputs": [],
   "source": []
  }
 ],
 "metadata": {
  "kernelspec": {
   "display_name": "Python 3 (ipykernel)",
   "language": "python",
   "name": "python3"
  },
  "language_info": {
   "codemirror_mode": {
    "name": "ipython",
    "version": 3
   },
   "file_extension": ".py",
   "mimetype": "text/x-python",
   "name": "python",
   "nbconvert_exporter": "python",
   "pygments_lexer": "ipython3",
   "version": "3.11.0"
  }
 },
 "nbformat": 4,
 "nbformat_minor": 5
}
